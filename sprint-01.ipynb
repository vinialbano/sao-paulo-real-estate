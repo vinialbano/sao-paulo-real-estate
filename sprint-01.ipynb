{
 "cells": [
  {
   "cell_type": "markdown",
   "id": "985416bc-536d-4baf-a4b9-50893bdf7a64",
   "metadata": {},
   "source": [
    "# São Paulo Real Estate - Data Science Study\n",
    "\n",
    "Predict the median sale/rent price of apartments in the city of São Paulo, Brazil.\n",
    "\n",
    "**Created by:** Vinícius Albano ([@vinialbano](https://github.com/vinialbano))\n",
    "\n",
    "<a rel=\"license\" href=\"http://creativecommons.org/licenses/by-nc-sa/4.0/\"><img alt=\"Creative Commons License\" style=\"border-width:0\" src=\"https://i.creativecommons.org/l/by-nc-sa/4.0/88x31.png\" /></a><br />This work is licensed under a <a rel=\"license\" href=\"http://creativecommons.org/licenses/by-nc-sa/4.0/\">Creative Commons Attribution-NonCommercial-ShareAlike 4.0 International License</a>."
   ]
  },
  {
   "cell_type": "markdown",
   "id": "f76bb469-b90c-4bda-9676-b32af556c725",
   "metadata": {},
   "source": [
    "***\n",
    "**Sprint #1**\n",
    "\n",
    "<img src=\"https://upload.wikimedia.org/wikipedia/commons/thumb/4/4b/Bandeira_da_cidade_de_S%C3%A3o_Paulo.svg/320px-Bandeira_da_cidade_de_S%C3%A3o_Paulo.svg.png\">"
   ]
  },
  {
   "cell_type": "markdown",
   "id": "295cddb8-7fe4-4467-a138-edee74e7b272",
   "metadata": {},
   "source": [
    "## Before starting this notebook\n",
    "\n",
    "This jupyter notebook is designed for **experimental and learning purposes.**\n",
    "Although it is (relatively) well organized, it aims at solving the _target problem_ by evaluating (and documenting) _different solutions_ for some steps of the **machine learning pipeline** - see the ***[Machine Learning Project Checklist by xavecoding](https://github.com/xavecoding/IFSP-CMP-D2APR-2021.2/blob/main/cheat-sheets/machine-learning-project-checklist_by_xavecoding.pdf).***\n",
    "I tried to make this notebook as literally a _notebook_. Thus, it contains notes, drafts, comments, etc.\n",
    "\n",
    "For learning purposes, some parts of the notebook may be _overcommented._ Moreover, to simulate a real development scenarion, we will divide our solution and experiments into \"**sprints**\" in which each sprint has some goals (e.g., perform _feature selection_, train more ML models, ...).\n",
    "The **sprint goal** wil be stated at the beginning of the notebook.\n",
    "\n",
    "A ***final notebook*** (or any other kind of presentation) that complies and summarizes all sprint – the target problem, solutions, and findings – should be created later.\n",
    "\n",
    "**Conventions**\n",
    "\n",
    "* 💡 indicates a tip.\n",
    "* ⚠️ indicates a warning message.\n",
    "* alt tab indicates an extra content (e.g., slides) to explain a given concept.\n",
    "\n",
    "***\n",
    "\n",
    "## Sprint Goals\n",
    "\n",
    "* Frame the problem\n",
    "* Get the data\n",
    "* Data cleaning\n",
    "* Simple EDA to gain insights\n",
    "* Initial data preprocessing\n",
    "* Train a (single) ML algorithm with all features and default hyperparameters"
   ]
  }
 ],
 "metadata": {
  "kernelspec": {
   "display_name": "Python 3 (ipykernel)",
   "language": "python",
   "name": "python3"
  },
  "language_info": {
   "codemirror_mode": {
    "name": "ipython",
    "version": 3
   },
   "file_extension": ".py",
   "mimetype": "text/x-python",
   "name": "python",
   "nbconvert_exporter": "python",
   "pygments_lexer": "ipython3",
   "version": "3.9.7"
  }
 },
 "nbformat": 4,
 "nbformat_minor": 5
}
